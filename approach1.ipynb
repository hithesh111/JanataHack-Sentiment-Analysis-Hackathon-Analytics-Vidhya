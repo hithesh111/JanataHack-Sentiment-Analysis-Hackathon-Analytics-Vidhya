{
 "cells": [
  {
   "cell_type": "markdown",
   "metadata": {},
   "source": [
    "<h1>JanataHack Steam Reviews Sentiment Analysis Hackathon</h1>\n",
    "<h2>Approach 1 - Count Features and XGBoost</h2>\n",
    "Based on the frequency of occurence of words,symbols and digits in positive and negative reviews.\n",
    "Got 0.82 F1-score on the leaderboard."
   ]
  },
  {
   "cell_type": "markdown",
   "metadata": {},
   "source": [
    "<h3>Importing relevant libraries</h3>"
   ]
  },
  {
   "cell_type": "code",
   "execution_count": 1,
   "metadata": {},
   "outputs": [
    {
     "name": "stderr",
     "output_type": "stream",
     "text": [
      "/home/hithesh/anaconda3/lib/python3.7/site-packages/dask/config.py:168: YAMLLoadWarning: calling yaml.load() without Loader=... is deprecated, as the default Loader is unsafe. Please read https://msg.pyyaml.org/load for full details.\n",
      "  data = yaml.load(f.read()) or {}\n",
      "/home/hithesh/anaconda3/lib/python3.7/site-packages/distributed/config.py:20: YAMLLoadWarning: calling yaml.load() without Loader=... is deprecated, as the default Loader is unsafe. Please read https://msg.pyyaml.org/load for full details.\n",
      "  defaults = yaml.load(f)\n"
     ]
    }
   ],
   "source": [
    "from time import time\n",
    "import pandas as pd\n",
    "import numpy as np\n",
    "from sklearn.model_selection import train_test_split\n",
    "from xgboost import XGBClassifier\n",
    "from sklearn.metrics import f1_score\n",
    "from nltk import FreqDist\n",
    "from nltk.corpus import stopwords\n",
    "from nltk.tokenize import word_tokenize\n"
   ]
  },
  {
   "cell_type": "markdown",
   "metadata": {},
   "source": [
    "<h3>Loading train and test datasets as dataframes</h3>"
   ]
  },
  {
   "cell_type": "code",
   "execution_count": 2,
   "metadata": {},
   "outputs": [
    {
     "data": {
      "text/html": [
       "<div>\n",
       "<style scoped>\n",
       "    .dataframe tbody tr th:only-of-type {\n",
       "        vertical-align: middle;\n",
       "    }\n",
       "\n",
       "    .dataframe tbody tr th {\n",
       "        vertical-align: top;\n",
       "    }\n",
       "\n",
       "    .dataframe thead th {\n",
       "        text-align: right;\n",
       "    }\n",
       "</style>\n",
       "<table border=\"1\" class=\"dataframe\">\n",
       "  <thead>\n",
       "    <tr style=\"text-align: right;\">\n",
       "      <th></th>\n",
       "      <th>review_id</th>\n",
       "      <th>title</th>\n",
       "      <th>year</th>\n",
       "      <th>user_review</th>\n",
       "      <th>user_suggestion</th>\n",
       "      <th>length</th>\n",
       "    </tr>\n",
       "  </thead>\n",
       "  <tbody>\n",
       "    <tr>\n",
       "      <th>0</th>\n",
       "      <td>1</td>\n",
       "      <td>Spooky's Jump Scare Mansion</td>\n",
       "      <td>2016.0</td>\n",
       "      <td>I'm scared and hearing creepy voices.  So I'll...</td>\n",
       "      <td>1</td>\n",
       "      <td>710</td>\n",
       "    </tr>\n",
       "    <tr>\n",
       "      <th>1</th>\n",
       "      <td>2</td>\n",
       "      <td>Spooky's Jump Scare Mansion</td>\n",
       "      <td>2016.0</td>\n",
       "      <td>Best game, more better than Sam Pepper's YouTu...</td>\n",
       "      <td>1</td>\n",
       "      <td>335</td>\n",
       "    </tr>\n",
       "    <tr>\n",
       "      <th>2</th>\n",
       "      <td>3</td>\n",
       "      <td>Spooky's Jump Scare Mansion</td>\n",
       "      <td>2016.0</td>\n",
       "      <td>A littly iffy on the controls, but once you kn...</td>\n",
       "      <td>1</td>\n",
       "      <td>397</td>\n",
       "    </tr>\n",
       "    <tr>\n",
       "      <th>3</th>\n",
       "      <td>4</td>\n",
       "      <td>Spooky's Jump Scare Mansion</td>\n",
       "      <td>2015.0</td>\n",
       "      <td>Great game, fun and colorful and all that.A si...</td>\n",
       "      <td>1</td>\n",
       "      <td>280</td>\n",
       "    </tr>\n",
       "    <tr>\n",
       "      <th>4</th>\n",
       "      <td>5</td>\n",
       "      <td>Spooky's Jump Scare Mansion</td>\n",
       "      <td>2015.0</td>\n",
       "      <td>Not many games have the cute tag right next to...</td>\n",
       "      <td>1</td>\n",
       "      <td>334</td>\n",
       "    </tr>\n",
       "  </tbody>\n",
       "</table>\n",
       "</div>"
      ],
      "text/plain": [
       "   review_id                        title    year  \\\n",
       "0          1  Spooky's Jump Scare Mansion  2016.0   \n",
       "1          2  Spooky's Jump Scare Mansion  2016.0   \n",
       "2          3  Spooky's Jump Scare Mansion  2016.0   \n",
       "3          4  Spooky's Jump Scare Mansion  2015.0   \n",
       "4          5  Spooky's Jump Scare Mansion  2015.0   \n",
       "\n",
       "                                         user_review  user_suggestion  length  \n",
       "0  I'm scared and hearing creepy voices.  So I'll...                1     710  \n",
       "1  Best game, more better than Sam Pepper's YouTu...                1     335  \n",
       "2  A littly iffy on the controls, but once you kn...                1     397  \n",
       "3  Great game, fun and colorful and all that.A si...                1     280  \n",
       "4  Not many games have the cute tag right next to...                1     334  "
      ]
     },
     "execution_count": 2,
     "metadata": {},
     "output_type": "execute_result"
    }
   ],
   "source": [
    "df = pd.read_csv('/home/hithesh/Desktop/ML Competitions/Sentiment_Analysis_Analytics_vidhya/train.csv')\n",
    "df_test = pd.read_csv('/home/hithesh/Desktop/ML Competitions/Sentiment_Analysis_Analytics_vidhya/test.csv')\n",
    "\n",
    "df['length'] = df['user_review'].apply(lambda x: len(x))\n",
    "df_test['length'] = df_test['user_review'].apply(lambda x: len(x))\n",
    "df.head()"
   ]
  },
  {
   "cell_type": "markdown",
   "metadata": {},
   "source": [
    "<h3>Combining reviews to make documents.</h3>\n",
    "Creating a document of all reviews in the training data, another document of all reviews in which the user recommends the game and another one which has all reviews in which user doesn't recommend the game"
   ]
  },
  {
   "cell_type": "code",
   "execution_count": 3,
   "metadata": {},
   "outputs": [],
   "source": [
    "doc = ''\n",
    "doc1 = ''\n",
    "doc0 = ''\n",
    "for i in range(df.shape[0]):\n",
    "    doc = doc + df.loc[i,'user_review'] + str(' ')\n",
    "    if(df.loc[i,'user_suggestion']==0):\n",
    "        doc0 = doc0 + df.loc[i,'user_review']\n",
    "    else:\n",
    "        doc1 = doc1 + df.loc[i,'user_review']\n",
    "n = 0"
   ]
  },
  {
   "cell_type": "markdown",
   "metadata": {},
   "source": [
    "<h3>Preprocessing the text in the three documents</h3>\n",
    "Removing stopwords (words which don't add relevant amount of meaning to sentences), keeping only alphabet characters and converting documents to lowercase. "
   ]
  },
  {
   "cell_type": "code",
   "execution_count": 4,
   "metadata": {},
   "outputs": [],
   "source": [
    "stop_words = stopwords.words('english')\n",
    "\n",
    "tokens = word_tokenize(doc)\n",
    "all_words = [token.lower() for token in tokens if token.isalpha()!=0]\n",
    "all_words = [word for word in all_words if word not in stop_words]\n",
    "\n",
    "tokens0 = word_tokenize(doc0)\n",
    "all_words0 = [token.lower() for token in tokens0 if token.isalpha()!=0]\n",
    "all_words0 = [word for word in all_words0 if word not in stop_words]\n",
    "\n",
    "tokens1 = word_tokenize(doc1)\n",
    "all_words1 = [token.lower() for token in tokens1 if token.isalpha()!=0]\n",
    "all_words1 = [word for word in all_words1 if word not in stop_words]"
   ]
  },
  {
   "cell_type": "markdown",
   "metadata": {},
   "source": [
    "<h3>Getting frequency distributions of all words in the document</h3>\n",
    "The most common words in the three documents and their frequencies are given below, first being the whole document, 2nd, the positive reviews and 3rd, the negative reviews."
   ]
  },
  {
   "cell_type": "code",
   "execution_count": 5,
   "metadata": {},
   "outputs": [
    {
     "data": {
      "text/plain": [
       "([('game', 50545),\n",
       "  ('like', 11852),\n",
       "  ('play', 11379),\n",
       "  ('get', 11363),\n",
       "  ('good', 7490),\n",
       "  ('time', 7205),\n",
       "  ('early', 6889),\n",
       "  ('access', 6887),\n",
       "  ('one', 6835),\n",
       "  ('fun', 6733),\n",
       "  ('even', 6337),\n",
       "  ('really', 6054),\n",
       "  ('would', 5436),\n",
       "  ('games', 5308),\n",
       "  ('free', 5019)],\n",
       " '\\n',\n",
       " [('game', 27100),\n",
       "  ('like', 7116),\n",
       "  ('play', 6369),\n",
       "  ('get', 5762),\n",
       "  ('good', 4471),\n",
       "  ('fun', 4115),\n",
       "  ('access', 3907),\n",
       "  ('one', 3742),\n",
       "  ('time', 3627),\n",
       "  ('really', 3619),\n",
       "  ('free', 3451),\n",
       "  ('games', 3260),\n",
       "  ('nope', 3229),\n",
       "  ('would', 2834),\n",
       "  ('great', 2803)],\n",
       " '\\n',\n",
       " [('game', 22473),\n",
       "  ('get', 5584),\n",
       "  ('play', 4900),\n",
       "  ('like', 4709),\n",
       "  ('even', 3650),\n",
       "  ('time', 3376),\n",
       "  ('one', 2986),\n",
       "  ('access', 2935),\n",
       "  ('good', 2894),\n",
       "  ('money', 2759),\n",
       "  ('would', 2580),\n",
       "  ('fun', 2413),\n",
       "  ('really', 2382),\n",
       "  ('new', 2242),\n",
       "  ('pay', 2167)])"
      ]
     },
     "execution_count": 5,
     "metadata": {},
     "output_type": "execute_result"
    }
   ],
   "source": [
    "freq_all_words = FreqDist(all_words)\n",
    "freq_all_words0 = FreqDist(all_words0)\n",
    "freq_all_words1 = FreqDist(all_words1)\n",
    "freq_all_words.most_common(15), '\\n',freq_all_words1.most_common(15),'\\n',freq_all_words0.most_common(15)"
   ]
  },
  {
   "cell_type": "markdown",
   "metadata": {},
   "source": [
    "<h3>Creating word frequency features</h3>\n",
    "Having words in the top 1000 most common words in the negative review document which are not in top 1000 of most common words in the positive review document along with 300 most common words in the full document is found to obtain a higher evaluation score."
   ]
  },
  {
   "cell_type": "code",
   "execution_count": 6,
   "metadata": {
    "scrolled": false
   },
   "outputs": [
    {
     "data": {
      "text/plain": [
       "493"
      ]
     },
     "execution_count": 6,
     "metadata": {},
     "output_type": "execute_result"
    }
   ],
   "source": [
    "word_features = []\n",
    "word_features0 = []\n",
    "word_features1 = []\n",
    "\n",
    "for i in range(1000):\n",
    "    word_features0.append(freq_all_words0.most_common(1000)[i][0])\n",
    "for i in range(1000):\n",
    "    if(freq_all_words1.most_common(1000)[i][0] in word_features0):\n",
    "        word_features0.remove(freq_all_words1.most_common(1000)[i][0])\n",
    "        \n",
    "for i in range(300):\n",
    "    word_features.append(freq_all_words.most_common(300)[i][0])\n",
    "\n",
    "word_features =  word_features + word_features0 + word_features1\n",
    "word_features = list(set(word_features))\n",
    "len(word_features)"
   ]
  },
  {
   "cell_type": "markdown",
   "metadata": {},
   "source": [
    "<h3>Preparing training data to feed the model</h3>\n",
    "Getting counts of occurences of words, symbols, letters and digits as training and testing examples"
   ]
  },
  {
   "cell_type": "code",
   "execution_count": 7,
   "metadata": {},
   "outputs": [
    {
     "data": {
      "text/html": [
       "<div>\n",
       "<style scoped>\n",
       "    .dataframe tbody tr th:only-of-type {\n",
       "        vertical-align: middle;\n",
       "    }\n",
       "\n",
       "    .dataframe tbody tr th {\n",
       "        vertical-align: top;\n",
       "    }\n",
       "\n",
       "    .dataframe thead th {\n",
       "        text-align: right;\n",
       "    }\n",
       "</style>\n",
       "<table border=\"1\" class=\"dataframe\">\n",
       "  <thead>\n",
       "    <tr style=\"text-align: right;\">\n",
       "      <th></th>\n",
       "      <th>review_id</th>\n",
       "      <th>title</th>\n",
       "      <th>year</th>\n",
       "      <th>user_review</th>\n",
       "      <th>user_suggestion</th>\n",
       "      <th>length</th>\n",
       "      <th>made</th>\n",
       "      <th>ruined</th>\n",
       "      <th>internet</th>\n",
       "      <th>barely</th>\n",
       "      <th>...</th>\n",
       "      <th>0</th>\n",
       "      <th>1</th>\n",
       "      <th>2</th>\n",
       "      <th>3</th>\n",
       "      <th>4</th>\n",
       "      <th>5</th>\n",
       "      <th>6</th>\n",
       "      <th>7</th>\n",
       "      <th>8</th>\n",
       "      <th>9</th>\n",
       "    </tr>\n",
       "  </thead>\n",
       "  <tbody>\n",
       "    <tr>\n",
       "      <th>0</th>\n",
       "      <td>1</td>\n",
       "      <td>Spooky's Jump Scare Mansion</td>\n",
       "      <td>0</td>\n",
       "      <td>I'm scared and hearing creepy voices.  So I'll...</td>\n",
       "      <td>1</td>\n",
       "      <td>710</td>\n",
       "      <td>0</td>\n",
       "      <td>0</td>\n",
       "      <td>0</td>\n",
       "      <td>0</td>\n",
       "      <td>...</td>\n",
       "      <td>1</td>\n",
       "      <td>1</td>\n",
       "      <td>0</td>\n",
       "      <td>0</td>\n",
       "      <td>0</td>\n",
       "      <td>0</td>\n",
       "      <td>0</td>\n",
       "      <td>0</td>\n",
       "      <td>0</td>\n",
       "      <td>2</td>\n",
       "    </tr>\n",
       "    <tr>\n",
       "      <th>1</th>\n",
       "      <td>2</td>\n",
       "      <td>Spooky's Jump Scare Mansion</td>\n",
       "      <td>0</td>\n",
       "      <td>Best game, more better than Sam Pepper's YouTu...</td>\n",
       "      <td>1</td>\n",
       "      <td>335</td>\n",
       "      <td>0</td>\n",
       "      <td>0</td>\n",
       "      <td>0</td>\n",
       "      <td>0</td>\n",
       "      <td>...</td>\n",
       "      <td>2</td>\n",
       "      <td>2</td>\n",
       "      <td>0</td>\n",
       "      <td>0</td>\n",
       "      <td>0</td>\n",
       "      <td>0</td>\n",
       "      <td>0</td>\n",
       "      <td>0</td>\n",
       "      <td>0</td>\n",
       "      <td>0</td>\n",
       "    </tr>\n",
       "    <tr>\n",
       "      <th>2</th>\n",
       "      <td>3</td>\n",
       "      <td>Spooky's Jump Scare Mansion</td>\n",
       "      <td>0</td>\n",
       "      <td>A littly iffy on the controls, but once you kn...</td>\n",
       "      <td>1</td>\n",
       "      <td>397</td>\n",
       "      <td>1</td>\n",
       "      <td>0</td>\n",
       "      <td>0</td>\n",
       "      <td>0</td>\n",
       "      <td>...</td>\n",
       "      <td>4</td>\n",
       "      <td>2</td>\n",
       "      <td>0</td>\n",
       "      <td>0</td>\n",
       "      <td>0</td>\n",
       "      <td>1</td>\n",
       "      <td>0</td>\n",
       "      <td>0</td>\n",
       "      <td>0</td>\n",
       "      <td>0</td>\n",
       "    </tr>\n",
       "    <tr>\n",
       "      <th>3</th>\n",
       "      <td>4</td>\n",
       "      <td>Spooky's Jump Scare Mansion</td>\n",
       "      <td>0</td>\n",
       "      <td>Great game, fun and colorful and all that.A si...</td>\n",
       "      <td>1</td>\n",
       "      <td>280</td>\n",
       "      <td>0</td>\n",
       "      <td>0</td>\n",
       "      <td>0</td>\n",
       "      <td>0</td>\n",
       "      <td>...</td>\n",
       "      <td>0</td>\n",
       "      <td>0</td>\n",
       "      <td>0</td>\n",
       "      <td>0</td>\n",
       "      <td>0</td>\n",
       "      <td>0</td>\n",
       "      <td>0</td>\n",
       "      <td>0</td>\n",
       "      <td>0</td>\n",
       "      <td>0</td>\n",
       "    </tr>\n",
       "    <tr>\n",
       "      <th>4</th>\n",
       "      <td>5</td>\n",
       "      <td>Spooky's Jump Scare Mansion</td>\n",
       "      <td>0</td>\n",
       "      <td>Not many games have the cute tag right next to...</td>\n",
       "      <td>1</td>\n",
       "      <td>334</td>\n",
       "      <td>0</td>\n",
       "      <td>0</td>\n",
       "      <td>0</td>\n",
       "      <td>0</td>\n",
       "      <td>...</td>\n",
       "      <td>4</td>\n",
       "      <td>2</td>\n",
       "      <td>1</td>\n",
       "      <td>0</td>\n",
       "      <td>1</td>\n",
       "      <td>0</td>\n",
       "      <td>0</td>\n",
       "      <td>0</td>\n",
       "      <td>0</td>\n",
       "      <td>0</td>\n",
       "    </tr>\n",
       "  </tbody>\n",
       "</table>\n",
       "<p>5 rows × 548 columns</p>\n",
       "</div>"
      ],
      "text/plain": [
       "   review_id                        title  year  \\\n",
       "0          1  Spooky's Jump Scare Mansion     0   \n",
       "1          2  Spooky's Jump Scare Mansion     0   \n",
       "2          3  Spooky's Jump Scare Mansion     0   \n",
       "3          4  Spooky's Jump Scare Mansion     0   \n",
       "4          5  Spooky's Jump Scare Mansion     0   \n",
       "\n",
       "                                         user_review  user_suggestion  length  \\\n",
       "0  I'm scared and hearing creepy voices.  So I'll...                1     710   \n",
       "1  Best game, more better than Sam Pepper's YouTu...                1     335   \n",
       "2  A littly iffy on the controls, but once you kn...                1     397   \n",
       "3  Great game, fun and colorful and all that.A si...                1     280   \n",
       "4  Not many games have the cute tag right next to...                1     334   \n",
       "\n",
       "   made  ruined  internet  barely  ...  0  1  2  3  4  5  6  7  8  9  \n",
       "0     0       0         0       0  ...  1  1  0  0  0  0  0  0  0  2  \n",
       "1     0       0         0       0  ...  2  2  0  0  0  0  0  0  0  0  \n",
       "2     1       0         0       0  ...  4  2  0  0  0  1  0  0  0  0  \n",
       "3     0       0         0       0  ...  0  0  0  0  0  0  0  0  0  0  \n",
       "4     0       0         0       0  ...  4  2  1  0  1  0  0  0  0  0  \n",
       "\n",
       "[5 rows x 548 columns]"
      ]
     },
     "execution_count": 7,
     "metadata": {},
     "output_type": "execute_result"
    }
   ],
   "source": [
    "for w in word_features:\n",
    "    df[w] = df['user_review'].apply(lambda x: len(x.lower().split(w))-1)\n",
    "\n",
    "symbol_features = ['!','.','\\'',',','@','$','#',':',';','\\\"','&','*','%','^',' ']\n",
    "for s in symbol_features:\n",
    "    df[s] = df['user_review'].apply(lambda x: len(x.split(s))-1)\n",
    "\n",
    "alpha_features = [chr(i) for i in range(ord('a'),ord('z')+1)]\n",
    "for f in alpha_features:\n",
    "    df[f] = df['user_review'].apply(lambda x: len(x.split(f))-1)\n",
    "    \n",
    "digit_features = [str(i) for i in range(10)]\n",
    "for d in digit_features:\n",
    "    df[d] = df['user_review'].apply(lambda x: len(x.split(d))-1)\n",
    "    \n",
    "for w in word_features:\n",
    "    df_test[w] = df_test['user_review'].apply(lambda x: len(x.lower().split(w))-1)\n",
    "    \n",
    "for s in symbol_features:\n",
    "    df_test[s] = df_test['user_review'].apply(lambda x: len(x.split(s))-1)\n",
    "\n",
    "alpha_features = [chr(i) for i in range(ord('a'),ord('z')+1)]\n",
    "for f in alpha_features:\n",
    "    df_test[f] = df_test['user_review'].apply(lambda x: len(x.lower().split(f))-1)\n",
    "    \n",
    "digit_features = [str(i) for i in range(10)]\n",
    "for d in digit_features:\n",
    "    df_test[d] = df_test['user_review'].apply(lambda x: len(x.split(d))-1)\n",
    "    \n",
    "features = list(set(word_features + symbol_features + alpha_features + digit_features + ['length']))\n",
    "df.head()"
   ]
  },
  {
   "cell_type": "markdown",
   "metadata": {},
   "source": [
    "<h3>Model Optimization and Evaluation</h3>\n",
    "Models like Random Forest, Gradient Boost, SVM, Logistic Regression have been tried. XGBoost with n_estimators = 500 was found to obtain the cross validation score."
   ]
  },
  {
   "cell_type": "code",
   "execution_count": 8,
   "metadata": {},
   "outputs": [
    {
     "name": "stdout",
     "output_type": "stream",
     "text": [
      "0.99985588701542 0.8403252032520325\n"
     ]
    }
   ],
   "source": [
    "X = df[features]\n",
    "y = df['user_suggestion']\n",
    "\n",
    "X_train, X_test,y_train,y_test = train_test_split(X,y,test_size=0.3,random_state=42)\n",
    "\n",
    "model=XGBClassifier(n_estimators = 500)\n",
    "model.fit(X_train,y_train)\n",
    "\n",
    "train_score = f1_score(y_train, model.predict(X_train))\n",
    "test_score = f1_score(y_test, model.predict(X_test))\n",
    "print(train_score,test_score)"
   ]
  },
  {
   "cell_type": "markdown",
   "metadata": {},
   "source": [
    "<h3>Making Predictions</h3>"
   ]
  },
  {
   "cell_type": "code",
   "execution_count": 9,
   "metadata": {},
   "outputs": [],
   "source": [
    "model.fit(X,y)\n",
    "test_X = df_test[features]\n",
    "\n",
    "df_test['user_suggestion'] = pd.Series(model.predict(test_X))\n",
    "final = pd.concat([df_test['review_id'],df_test['user_suggestion']],axis=1)\n",
    "final.to_csv('/home/hithesh/Desktop/ML Competitions/Sentiment_Analysis_Analytics_vidhya/nlp_sub1.csv',header=True , index=False)"
   ]
  }
 ],
 "metadata": {
  "celltoolbar": "Raw Cell Format",
  "kernelspec": {
   "display_name": "Python 3",
   "language": "python",
   "name": "python3"
  },
  "language_info": {
   "codemirror_mode": {
    "name": "ipython",
    "version": 3
   },
   "file_extension": ".py",
   "mimetype": "text/x-python",
   "name": "python",
   "nbconvert_exporter": "python",
   "pygments_lexer": "ipython3",
   "version": "3.7.3"
  }
 },
 "nbformat": 4,
 "nbformat_minor": 2
}
